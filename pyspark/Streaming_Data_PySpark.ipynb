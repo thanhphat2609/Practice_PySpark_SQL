{
 "cells": [
  {
   "cell_type": "markdown",
   "metadata": {
    "application/vnd.databricks.v1+cell": {
     "cellMetadata": {},
     "inputWidgets": {},
     "nuid": "f81aaf6b-e285-4f08-aff9-164f9ae6f243",
     "showTitle": false,
     "title": ""
    }
   },
   "source": [
    "# Streaming Data with PySpark in Databricks #"
   ]
  },
  {
   "cell_type": "code",
   "execution_count": 0,
   "metadata": {
    "application/vnd.databricks.v1+cell": {
     "cellMetadata": {
      "byteLimit": 2048000,
      "rowLimit": 10000
     },
     "inputWidgets": {},
     "nuid": "064c1ce2-b6e2-4634-b8e0-df8b49c64ca8",
     "showTitle": false,
     "title": ""
    }
   },
   "outputs": [],
   "source": [
    "# import pyspark\n",
    "import pyspark\n",
    "\n",
    "# SparkSession, StructType\n",
    "from pyspark.sql import SparkSession\n",
    "from pyspark.sql.types import *\n",
    "\n",
    "# Functions\n",
    "import pyspark.sql.functions as F"
   ]
  },
  {
   "cell_type": "code",
   "execution_count": 0,
   "metadata": {
    "application/vnd.databricks.v1+cell": {
     "cellMetadata": {
      "byteLimit": 2048000,
      "rowLimit": 10000
     },
     "inputWidgets": {},
     "nuid": "35aba195-915f-4f92-aa40-6cf275e489d3",
     "showTitle": false,
     "title": ""
    }
   },
   "outputs": [
    {
     "output_type": "stream",
     "name": "stdout",
     "output_type": "stream",
     "text": [
      "Spark version:  3.5.0\n"
     ]
    }
   ],
   "source": [
    "# Create SparkSession\n",
    "spark = SparkSession.builder.master(\"local[*]\") \\\n",
    "                            .appName(\"StreamingData\") \\\n",
    "                            .getOrCreate()\n",
    "\n",
    "# Spark Version\n",
    "print(\"Spark version: \", spark.version)"
   ]
  },
  {
   "cell_type": "markdown",
   "metadata": {
    "application/vnd.databricks.v1+cell": {
     "cellMetadata": {},
     "inputWidgets": {},
     "nuid": "80b481cc-61f6-4d00-8267-3cd9b7530251",
     "showTitle": false,
     "title": ""
    }
   },
   "source": [
    "## 1. Streaming with File ##"
   ]
  },
  {
   "cell_type": "code",
   "execution_count": 0,
   "metadata": {
    "application/vnd.databricks.v1+cell": {
     "cellMetadata": {
      "byteLimit": 2048000,
      "rowLimit": 10000
     },
     "inputWidgets": {},
     "nuid": "d885e7f1-cdde-4e29-b9be-246c00ac39b9",
     "showTitle": false,
     "title": ""
    }
   },
   "outputs": [
    {
     "output_type": "display_data",
     "data": {
      "text/html": [
       "<style scoped>\n",
       "  .table-result-container {\n",
       "    max-height: 300px;\n",
       "    overflow: auto;\n",
       "  }\n",
       "  table, th, td {\n",
       "    border: 1px solid black;\n",
       "    border-collapse: collapse;\n",
       "  }\n",
       "  th, td {\n",
       "    padding: 5px;\n",
       "  }\n",
       "  th {\n",
       "    text-align: left;\n",
       "  }\n",
       "</style><div class='table-result-container'><table class='table-result'><thead style='background-color: white'><tr><th>Rank</th><th>Team/NOC</th><th>Gold</th><th>Silver</th><th>Bronze</th><th>Total</th><th>Rank by Total</th></tr></thead><tbody><tr><td>null</td><td>^�{Va�^K\u001B<4�\u00076�N\u0016�\bXQ�ǆ�9�\u0007!P��$�\u0010�\u0013҆�d�c�D�j);\u0010��ѝP�g��E�M'O�ʕ����H7L�h���R���G��^�'�\u0003\u0007{\u0013�\b�zސʮ\u001BB��3\u001C�\u000B˙��h.�h�W�жF�\u000Ej娄CQՠ똈���}ιL�U:\u0012\u0014D�\u0013����%އ����</td><td>null</td><td>null</td><td>null</td><td>null</td><td>null</td></tr><tr><td>null</td><td>null</td><td>null</td><td>null</td><td>null</td><td>null</td><td>null</td></tr><tr><td>null</td><td>'\tja䠻�<���$�\u000F\\K>\u001A�5цl�JX&�ý3\u0016]\u0018�'Q�=\u0013�&}\b�\u0001xѣ�>����q��xu\u001DX.^y�P��)(\f\\��a\u0016�v5��R�Ui�ܸ\b�\u0000\u001CQ�\u000E\u001EhF�</td><td>null</td><td>null</td><td>null</td><td>null</td><td>null</td></tr><tr><td>null</td><td>�\u000Ez��@�TG5\u0013\u000Ey@�D\u0001\u000B\u001F66�<n.��\u001Di���i^�����8aE�\\���Y�u6��������gn}��O��'PK\u0007\b(��\u0005\u0001\u0000\u0000�\u0001\u0000\u0000PK\u0003\u0004\u0014\u0000\b\b\b\u0000�\u0006\u0012S\u0000\u0000\u0000\u0000\u0000\u0000\u0000\u0000\u0000\u0000\u0000\u0000\u0014\u0000\u0000\u0000xl/sharedStrings.xmluWے\u001AG\f}OU�a�\u0017�$f��\u0014�\u000B�f1d�%\u000Fy\u00133ڙ63ݓ�\u001E0|W� ?\u0016�rm��<�QK�s�f��[�G'�N\u0019}�h��kD�c�(��7�����Ƈ��?���Ql*��\u001B�ް\u0011UZ�]����\u001A�\u001A�\u0004�y_��l�8��{S��//�\u0016��M���L�˘}�7�ww�fAJ7�#��#?ސ>��~<j�~��vLEs�Ǭn4yR�mU.\u0017�[���+C\\�)�\u001Bo\u0005D�K\u0014�ت\u001B�ZyN��'�.2/Ѥ`�b��u~�[�\u0010�Ӂt-0��g6e��\\��:�*�U1˔�\u001A�`�h-�\u0019⩺�J�P�\u0000bw�\u0002>=��\u0003��\u0006�(\u001FM��B$(\u0003��\u0006���c�dk߁\u0005jm\u00034\u0003LV7L*�-�</td><td>null</td><td>null</td><td>null</td><td>null</td><td>null</td></tr><tr><td>null</td><td>��ec\u0006�\u0001�o�\u001DG;R%+�\u0007\u000E�*{d���QFewA��T�\u0005U=�\u0015%\u00066o\u001F0\\X\u000E�{�</td><td>null</td><td>null</td><td>null</td><td>null</td><td>null</td></tr><tr><td>null</td><td>null</td><td>null</td><td>null</td><td>null</td><td>null</td><td>null</td></tr><tr><td>null</td><td>null</td><td>null</td><td>null</td><td>null</td><td>null</td><td>null</td></tr><tr><td>null</td><td>null</td><td>null</td><td>null</td><td>null</td><td>null</td><td>null</td></tr><tr><td>null</td><td>o�0O��\u0019��%��[��Ii�;Ćf���\b\u0001\u001Cֱ K~�\u0006�(Z�������}�91�8�\u0010/>Z'�\u0016nߟ%^jhC48��)\u0006;�t\u0018�51�Jt\u0016�NȋcI\"�\u0001��iu��\u001D{lI���L����_�8ВfL.\u0012�����ƒ����hv���\u000FPK\u0007\b����E\u0001\u0000\u0000�\u0002\u0000\u0000PK\u0003\u0004\u0014\u0000\b\b\b\u0000�\u0006\u0012S\u0000\u0000\u0000\u0000\u0000\u0000\u0000\u0000\u0000\u0000\u0000\u0000\u000F\u0000\u0000\u0000xl/workbook.xml��MO�0\f��H���w�\u0014\u0010���.\u0013�n;\f�^���Q�a��'�T���z�Ǐ�f}�N�)��AC�R (���p��x�u{�\\b:\u001Db<��\u0007�0�<�R�\u0019�#��H�l��<�\u0012�Q�\b;\u001E��w�Q�\u0017��\u0006�\u0019��\u001FG�{kh\u0013͗��o�D\u000Esi˃\u001D\u0019ڟf�$:�T��g</td><td>null</td><td>null</td><td>null</td><td>null</td><td>null</td></tr><tr><td>null</td><td>null</td><td>null</td><td>null</td><td>null</td><td>null</td><td>null</td></tr><tr><td>null</td><td>null</td><td>null</td><td>null</td><td>null</td><td>null</td><td>null</td></tr><tr><td>null</td><td>null</td><td>null</td><td>null</td><td>null</td><td>null</td><td>null</td></tr><tr><td>null</td><td>null</td><td>null</td><td>null</td><td>null</td><td>null</td><td>null</td></tr><tr><td>null</td><td>��d�Į\u000FyN��S�~�aO��</td><td>null</td><td>null</td><td>null</td><td>null</td><td>null</td></tr><tr><td>null</td><td>null</td><td>null</td><td>null</td><td>null</td><td>null</td><td>null</td></tr><tr><td>null</td><td>null</td><td>null</td><td>null</td><td>null</td><td>null</td><td>null</td></tr><tr><td>null</td><td>���3\u0006�bFj9���SW�{��\bN7����\u0019��� �:��\u0011�[9�r�\fth8\\_<�_�?&��x�<w\u0000�2J\u001A��]v�Ae�U�NQ<�W�1\u0001u<w\u0000�3v\"E�4\u0001��3c�\u001A��/�1Kg��v\u0002�F��ˌ��\u0013e�\u0004�%:�׍�Esz\u0010</td><td>null</td><td>null</td><td>null</td><td>null</td><td>null</td></tr><tr><td>null</td><td>null</td><td>null</td><td>null</td><td>null</td><td>null</td><td>null</td></tr><tr><td>null</td><td>��j�JUfl�\u0011�����C�x��Ê~��a}����\b���\b���m)�l��Vg\u0011�6��P$gX</td><td>null</td><td>null</td><td>null</td><td>null</td><td>null</td></tr><tr><td>null</td><td>null</td><td>null</td><td>null</td><td>null</td><td>null</td><td>null</td></tr><tr><td>null</td><td>null</td><td>null</td><td>null</td><td>null</td><td>null</td><td>null</td></tr><tr><td>null</td><td>null</td><td>null</td><td>null</td><td>null</td><td>null</td><td>null</td></tr><tr><td>null</td><td>null</td><td>null</td><td>null</td><td>null</td><td>null</td><td>null</td></tr><tr><td>null</td><td>H\u0007?�:\u0011�Պb�l�r�j���\u001D{���\";��\u0019\u0011��[�</td><td>null</td><td>null</td><td>null</td><td>null</td><td>null</td></tr><tr><td>null</td><td>null</td><td>null</td><td>null</td><td>null</td><td>null</td><td>null</td></tr><tr><td>null</td><td>null</td><td>null</td><td>null</td><td>null</td><td>null</td><td>null</td></tr><tr><td>null</td><td>null</td><td>null</td><td>null</td><td>null</td><td>null</td><td>null</td></tr><tr><td>null</td><td>��:\u001D\u00121\u001B�S��dYG5MN9RF�\fYL��:$�</td><td>null</td><td>null</td><td>null</td><td>null</td><td>null</td></tr><tr><td>null</td><td>�H�Ԇ3u�1I��:�ꐈy\u0002q�u\u0010V!\u0015MjÙ:�</td><td>null</td><td>null</td><td>null</td><td>null</td><td>null</td></tr><tr><td>null</td><td>null</td><td>null</td><td>null</td><td>null</td><td>null</td><td>null</td></tr><tr><td>null</td><td>null</td><td>null</td><td>null</td><td>null</td><td>null</td><td>null</td></tr><tr><td>null</td><td>null</td><td>null</td><td>null</td><td>null</td><td>null</td><td>null</td></tr><tr><td>null</td><td>null</td><td>null</td><td>null</td><td>null</td><td>null</td><td>null</td></tr><tr><td>null</td><td>null</td><td>null</td><td>null</td><td>null</td><td>null</td><td>null</td></tr><tr><td>null</td><td>null</td><td>null</td><td>null</td><td>null</td><td>null</td><td>null</td></tr><tr><td>null</td><td>null</td><td>null</td><td>null</td><td>null</td><td>null</td><td>null</td></tr><tr><td>null</td><td>null</td><td>null</td><td>null</td><td>null</td><td>null</td><td>null</td></tr><tr><td>null</td><td>null</td><td>null</td><td>null</td><td>null</td><td>null</td><td>null</td></tr><tr><td>null</td><td>null</td><td>null</td><td>null</td><td>null</td><td>null</td><td>null</td></tr><tr><td>null</td><td>null</td><td>null</td><td>null</td><td>null</td><td>null</td><td>null</td></tr><tr><td>null</td><td>null</td><td>null</td><td>null</td><td>null</td><td>null</td><td>null</td></tr><tr><td>null</td><td>null</td><td>null</td><td>null</td><td>null</td><td>null</td><td>null</td></tr></tbody></table></div>"
      ]
     },
     "metadata": {
      "application/vnd.databricks.v1+output": {
       "addedWidgets": {},
       "aggData": [],
       "aggError": "",
       "aggOverflow": false,
       "aggSchema": [],
       "aggSeriesLimitReached": false,
       "aggType": "",
       "arguments": {},
       "columnCustomDisplayInfos": {},
       "data": [
        [
         null,
         "^�{Va�^K\u001B<4�\u00076�N\u0016�\bXQ�ǆ�9�\u0007!P��$�\u0010�\u0013҆�d�c�D�j);\u0010��ѝP�g��E�M'O�ʕ����H7L�h���R���G��^�'�\u0003\u0007{\u0013�\b�zސʮ\u001BB��3\u001C�\u000B˙��h.�h�W�жF�\u000Ej娄CQՠ똈���}ιL�U:\u0012\u0014D�\u0013����%އ����",
         null,
         null,
         null,
         null,
         null
        ],
        [
         null,
         null,
         null,
         null,
         null,
         null,
         null
        ],
        [
         null,
         "'\tja䠻�<���$�\u000F\\K>\u001A�5цl�JX&�ý3\u0016]\u0018�'Q�=\u0013�&}\b�\u0001xѣ�>����q��xu\u001DX.^y�P��)(\f\\��a\u0016�v5��R�Ui�ܸ\b�\u0000\u001CQ�\u000E\u001EhF�",
         null,
         null,
         null,
         null,
         null
        ],
        [
         null,
         "�\u000Ez��@�TG5\u0013\u000Ey@�D\u0001\u000B\u001F66�<n.��\u001Di���i^�����8aE�\\���Y�u6��������gn}��O��'PK\u0007\b(��\u0005\u0001\u0000\u0000�\u0001\u0000\u0000PK\u0003\u0004\u0014\u0000\b\b\b\u0000�\u0006\u0012S\u0000\u0000\u0000\u0000\u0000\u0000\u0000\u0000\u0000\u0000\u0000\u0000\u0014\u0000\u0000\u0000xl/sharedStrings.xmluWے\u001AG\f}OU�a�\u0017�$f��\u0014�\u000B�f1d�%\u000Fy\u00133ڙ63ݓ�\u001E0|W� ?\u0016�rm��<�QK�s�f��[�G'�N\u0019}�h��kD�c�(��7�����Ƈ��?���Ql*��\u001B�ް\u0011UZ�]����\u001A�\u001A�\u0004�y_��l�8��{S��//�\u0016��M���L�˘}�7�ww�fAJ7�#��#?ސ>��~<j�~��vLEs�Ǭn4yR�mU.\u0017�[���+C\\�)�\u001Bo\u0005D�K\u0014�ت\u001B�ZyN��'�.2/Ѥ`�b��u~�[�\u0010�Ӂt-0��g6e��\\��:�*�U1˔�\u001A�`�h-�\u0019⩺�J�P�\u0000bw�\u0002>=��\u0003��\u0006�(\u001FM��B$(\u0003��\u0006���c�dk߁\u0005jm\u00034\u0003LV7L*�-�",
         null,
         null,
         null,
         null,
         null
        ],
        [
         null,
         "��ec\u0006�\u0001�o�\u001DG;R%+�\u0007\u000E�*{d���QFewA��T�\u0005U=�\u0015%\u00066o\u001F0\\X\u000E�{�",
         null,
         null,
         null,
         null,
         null
        ],
        [
         null,
         null,
         null,
         null,
         null,
         null,
         null
        ],
        [
         null,
         null,
         null,
         null,
         null,
         null,
         null
        ],
        [
         null,
         null,
         null,
         null,
         null,
         null,
         null
        ],
        [
         null,
         "o�0O��\u0019��%��[��Ii�;Ćf���\b\u0001\u001Cֱ K~�\u0006�(Z�������}�91�8�\u0010/>Z'�\u0016nߟ%^jhC48��)\u0006;�t\u0018�51�Jt\u0016�NȋcI\"�\u0001��iu��\u001D{lI���L����_�8ВfL.\u0012�����ƒ����hv���\u000FPK\u0007\b����E\u0001\u0000\u0000�\u0002\u0000\u0000PK\u0003\u0004\u0014\u0000\b\b\b\u0000�\u0006\u0012S\u0000\u0000\u0000\u0000\u0000\u0000\u0000\u0000\u0000\u0000\u0000\u0000\u000F\u0000\u0000\u0000xl/workbook.xml��MO�0\f��H���w�\u0014\u0010���.\u0013�n;\f�^���Q�a��'�T���z�Ǐ�f}�N�)��AC�R (���p��x�u{�\\b:\u001Db<��\u0007�0�<�R�\u0019�#��H�l��<�\u0012�Q�\b;\u001E��w�Q�\u0017��\u0006�\u0019��\u001FG�{kh\u0013͗��o�D\u000Esi˃\u001D\u0019ڟf�$:�T��g",
         null,
         null,
         null,
         null,
         null
        ],
        [
         null,
         null,
         null,
         null,
         null,
         null,
         null
        ],
        [
         null,
         null,
         null,
         null,
         null,
         null,
         null
        ],
        [
         null,
         null,
         null,
         null,
         null,
         null,
         null
        ],
        [
         null,
         null,
         null,
         null,
         null,
         null,
         null
        ],
        [
         null,
         "��d�Į\u000FyN��S�~�aO��",
         null,
         null,
         null,
         null,
         null
        ],
        [
         null,
         null,
         null,
         null,
         null,
         null,
         null
        ],
        [
         null,
         null,
         null,
         null,
         null,
         null,
         null
        ],
        [
         null,
         "���3\u0006�bFj9���SW�{��\bN7����\u0019��� �:��\u0011�[9�r�\fth8\\_<�_�?&��x�<w\u0000�2J\u001A��]v�Ae�U�NQ<�W�1\u0001u<w\u0000�3v\"E�4\u0001��3c�\u001A��/�1Kg��v\u0002�F��ˌ��\u0013e�\u0004�%:�׍�Esz\u0010",
         null,
         null,
         null,
         null,
         null
        ],
        [
         null,
         null,
         null,
         null,
         null,
         null,
         null
        ],
        [
         null,
         "��j�JUfl�\u0011�����C�x��Ê~��a}����\b���\b���m)�l��Vg\u0011�6��P$gX",
         null,
         null,
         null,
         null,
         null
        ],
        [
         null,
         null,
         null,
         null,
         null,
         null,
         null
        ],
        [
         null,
         null,
         null,
         null,
         null,
         null,
         null
        ],
        [
         null,
         null,
         null,
         null,
         null,
         null,
         null
        ],
        [
         null,
         null,
         null,
         null,
         null,
         null,
         null
        ],
        [
         null,
         "H\u0007?�:\u0011�Պb�l�r�j���\u001D{���\";��\u0019\u0011��[�",
         null,
         null,
         null,
         null,
         null
        ],
        [
         null,
         null,
         null,
         null,
         null,
         null,
         null
        ],
        [
         null,
         null,
         null,
         null,
         null,
         null,
         null
        ],
        [
         null,
         null,
         null,
         null,
         null,
         null,
         null
        ],
        [
         null,
         "��:\u001D\u00121\u001B�S��dYG5MN9RF�\fYL��:$�",
         null,
         null,
         null,
         null,
         null
        ],
        [
         null,
         "�H�Ԇ3u�1I��:�ꐈy\u0002q�u\u0010V!\u0015MjÙ:�",
         null,
         null,
         null,
         null,
         null
        ],
        [
         null,
         null,
         null,
         null,
         null,
         null,
         null
        ],
        [
         null,
         null,
         null,
         null,
         null,
         null,
         null
        ],
        [
         null,
         null,
         null,
         null,
         null,
         null,
         null
        ],
        [
         null,
         null,
         null,
         null,
         null,
         null,
         null
        ],
        [
         null,
         null,
         null,
         null,
         null,
         null,
         null
        ],
        [
         null,
         null,
         null,
         null,
         null,
         null,
         null
        ],
        [
         null,
         null,
         null,
         null,
         null,
         null,
         null
        ],
        [
         null,
         null,
         null,
         null,
         null,
         null,
         null
        ],
        [
         null,
         null,
         null,
         null,
         null,
         null,
         null
        ],
        [
         null,
         null,
         null,
         null,
         null,
         null,
         null
        ],
        [
         null,
         null,
         null,
         null,
         null,
         null,
         null
        ],
        [
         null,
         null,
         null,
         null,
         null,
         null,
         null
        ],
        [
         null,
         null,
         null,
         null,
         null,
         null,
         null
        ]
       ],
       "datasetInfos": [],
       "dbfsResultPath": null,
       "isJsonSchema": true,
       "metadata": {
        "isDbfsCommandResult": false
       },
       "overflow": false,
       "plotOptions": {
        "customPlotOptions": {},
        "displayType": "table",
        "pivotAggregation": null,
        "pivotColumns": null,
        "xColumns": null,
        "yColumns": null
       },
       "removedWidgets": [],
       "schema": [
        {
         "metadata": "{}",
         "name": "Rank",
         "type": "\"integer\""
        },
        {
         "metadata": "{}",
         "name": "Team/NOC",
         "type": "\"string\""
        },
        {
         "metadata": "{}",
         "name": "Gold",
         "type": "\"integer\""
        },
        {
         "metadata": "{}",
         "name": "Silver",
         "type": "\"integer\""
        },
        {
         "metadata": "{}",
         "name": "Bronze",
         "type": "\"integer\""
        },
        {
         "metadata": "{}",
         "name": "Total",
         "type": "\"integer\""
        },
        {
         "metadata": "{}",
         "name": "Rank by Total",
         "type": "\"integer\""
        }
       ],
       "type": "table"
      }
     },
     "output_type": "display_data"
    }
   ],
   "source": [
    "# Define file_path\n",
    "file_path = \"dbfs:/FileStore/tables/olympic/\"\n",
    "\n",
    "# Define schema\n",
    "schema_medals = StructType([\n",
    "    StructField(\"Rank\", IntegerType(), True),\n",
    "    StructField(\"Team/NOC\", StringType(), True),\n",
    "    StructField(\"Gold\", IntegerType(), True),\n",
    "    StructField(\"Silver\", IntegerType(), True),\n",
    "    StructField(\"Bronze\", IntegerType(), True),\n",
    "    StructField(\"Total\", IntegerType(), True),\n",
    "    StructField(\"Rank by Total\", IntegerType(), True)\n",
    "])\n",
    "\n",
    "# Read stream data\n",
    "df_stream = spark.readStream.format(\"csv\") \\\n",
    "                            .option(\"header\", True) \\\n",
    "                            .schema(schema_medals) \\\n",
    "                            .load(file_path)\n",
    "\n",
    "# Display dataframe\n",
    "display(df_stream)"
   ]
  },
  {
   "cell_type": "code",
   "execution_count": 0,
   "metadata": {
    "application/vnd.databricks.v1+cell": {
     "cellMetadata": {
      "byteLimit": 2048000,
      "rowLimit": 10000
     },
     "inputWidgets": {},
     "nuid": "471039b9-0d94-4924-8a55-0b6374ac412a",
     "showTitle": false,
     "title": ""
    }
   },
   "outputs": [
    {
     "output_type": "execute_result",
     "data": {
      "text/plain": [
       "<pyspark.sql.streaming.query.StreamingQuery at 0x7f00efb35270>"
      ]
     },
     "execution_count": 7,
     "metadata": {},
     "output_type": "execute_result"
    }
   ],
   "source": [
    "df_stream.writeStream.format(\"console\").outputMode(\"append\").start()"
   ]
  }
 ],
 "metadata": {
  "application/vnd.databricks.v1+notebook": {
   "dashboards": [],
   "language": "python",
   "notebookMetadata": {
    "pythonIndentUnit": 4
   },
   "notebookName": "Streaming_Data_PySpark",
   "widgets": {}
  }
 },
 "nbformat": 4,
 "nbformat_minor": 0
}
